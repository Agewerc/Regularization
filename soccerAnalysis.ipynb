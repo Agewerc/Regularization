{
 "cells": [
  {
   "cell_type": "markdown",
   "metadata": {},
   "source": [
    "#### Import Libraries"
   ]
  },
  {
   "cell_type": "code",
   "execution_count": 1,
   "metadata": {},
   "outputs": [
    {
     "name": "stderr",
     "output_type": "stream",
     "text": [
      "\n",
      "Attaching package: 'dplyr'\n",
      "\n",
      "\n",
      "The following objects are masked from 'package:stats':\n",
      "\n",
      "    filter, lag\n",
      "\n",
      "\n",
      "The following objects are masked from 'package:base':\n",
      "\n",
      "    intersect, setdiff, setequal, union\n",
      "\n",
      "\n",
      "Loading required package: Matrix\n",
      "\n",
      "Loaded glmnet 4.0\n",
      "\n",
      "\n",
      "Attaching package: 'tidyr'\n",
      "\n",
      "\n",
      "The following objects are masked from 'package:Matrix':\n",
      "\n",
      "    expand, pack, unpack\n",
      "\n",
      "\n"
     ]
    }
   ],
   "source": [
    "library(ISLR)\n",
    "library(dplyr)\n",
    "library(glmnet)\n",
    "library(leaps)\n",
    "library(tidyr)"
   ]
  },
  {
   "cell_type": "code",
   "execution_count": 2,
   "metadata": {},
   "outputs": [
    {
     "ename": "ERROR",
     "evalue": "Error in is.data.frame(x): object 'soccer_data' not found\n",
     "output_type": "error",
     "traceback": [
      "Error in is.data.frame(x): object 'soccer_data' not found\nTraceback:\n",
      "1. colnames(soccer_data)",
      "2. is.data.frame(x)"
     ]
    }
   ],
   "source": [
    "length(colnames(soccer_data))"
   ]
  },
  {
   "cell_type": "markdown",
   "metadata": {},
   "source": [
    "#### Import Data"
   ]
  },
  {
   "cell_type": "code",
   "execution_count": null,
   "metadata": {},
   "outputs": [],
   "source": [
    "soccer_data <- read.csv('Datasets/players_20.csv')\n",
    "soccer_data <- soccer_data[soccer_data$team_position == 'ST',]\n",
    "soccer_data <- soccer_data[soccer_data$wage_eur > 16000,]"
   ]
  },
  {
   "cell_type": "code",
   "execution_count": null,
   "metadata": {},
   "outputs": [],
   "source": [
    "soccer_da <- soccer_data[ -c(1:9, 10:13, 15:44, 73:104) ]\n"
   ]
  },
  {
   "cell_type": "code",
   "execution_count": null,
   "metadata": {},
   "outputs": [],
   "source": [
    "reg = lm(log(wage_eur) ~ ., data = soccer_da)"
   ]
  },
  {
   "cell_type": "code",
   "execution_count": null,
   "metadata": {},
   "outputs": [],
   "source": [
    "summary(reg)"
   ]
  },
  {
   "cell_type": "code",
   "execution_count": null,
   "metadata": {},
   "outputs": [],
   "source": [
    "plot(soccer_da$power_jumping, log(soccer_da$wage_eur))"
   ]
  },
  {
   "cell_type": "code",
   "execution_count": null,
   "metadata": {},
   "outputs": [],
   "source": []
  },
  {
   "cell_type": "code",
   "execution_count": null,
   "metadata": {},
   "outputs": [],
   "source": []
  },
  {
   "cell_type": "code",
   "execution_count": null,
   "metadata": {},
   "outputs": [],
   "source": []
  },
  {
   "cell_type": "code",
   "execution_count": null,
   "metadata": {},
   "outputs": [],
   "source": []
  },
  {
   "cell_type": "code",
   "execution_count": null,
   "metadata": {},
   "outputs": [],
   "source": []
  },
  {
   "cell_type": "code",
   "execution_count": null,
   "metadata": {},
   "outputs": [],
   "source": []
  },
  {
   "cell_type": "code",
   "execution_count": null,
   "metadata": {},
   "outputs": [],
   "source": [
    "regfit_full = regsubsets(log(wage_eur)~., data = soccer_da, nvmax = 19)"
   ]
  },
  {
   "cell_type": "code",
   "execution_count": 3,
   "metadata": {},
   "outputs": [
    {
     "ename": "ERROR",
     "evalue": "Error in summary(regfit_full): object 'regfit_full' not found\n",
     "output_type": "error",
     "traceback": [
      "Error in summary(regfit_full): object 'regfit_full' not found\nTraceback:\n",
      "1. summary(regfit_full)"
     ]
    }
   ],
   "source": [
    "summary(regfit_full)"
   ]
  },
  {
   "cell_type": "code",
   "execution_count": 4,
   "metadata": {},
   "outputs": [
    {
     "ename": "ERROR",
     "evalue": "Error in eval(expr, envir, enclos): object 'regfit_full' not found\n",
     "output_type": "error",
     "traceback": [
      "Error in eval(expr, envir, enclos): object 'regfit_full' not found\nTraceback:\n"
     ]
    }
   ],
   "source": [
    "regfit_full\n"
   ]
  },
  {
   "cell_type": "code",
   "execution_count": 5,
   "metadata": {},
   "outputs": [
    {
     "ename": "ERROR",
     "evalue": "Error in plot(regfit_full, scale = \"adjr2\", main = \"Adjusted R^2\"): object 'regfit_full' not found\n",
     "output_type": "error",
     "traceback": [
      "Error in plot(regfit_full, scale = \"adjr2\", main = \"Adjusted R^2\"): object 'regfit_full' not found\nTraceback:\n",
      "1. plot(regfit_full, scale = \"adjr2\", main = \"Adjusted R^2\")"
     ]
    }
   ],
   "source": [
    "plot(regfit_full, scale = \"adjr2\", main = \"Adjusted R^2\")\n"
   ]
  },
  {
   "cell_type": "code",
   "execution_count": null,
   "metadata": {},
   "outputs": [],
   "source": []
  },
  {
   "cell_type": "code",
   "execution_count": null,
   "metadata": {},
   "outputs": [],
   "source": []
  },
  {
   "cell_type": "code",
   "execution_count": null,
   "metadata": {},
   "outputs": [],
   "source": []
  },
  {
   "cell_type": "code",
   "execution_count": null,
   "metadata": {},
   "outputs": [],
   "source": []
  },
  {
   "cell_type": "code",
   "execution_count": 6,
   "metadata": {},
   "outputs": [
    {
     "ename": "ERROR",
     "evalue": "Error in eval(lhs, parent, parent): object 'soccer_da' not found\n",
     "output_type": "error",
     "traceback": [
      "Error in eval(lhs, parent, parent): object 'soccer_da' not found\nTraceback:\n",
      "1. soccer_da %>% sample_frac(0.5)",
      "2. eval(lhs, parent, parent)",
      "3. eval(lhs, parent, parent)"
     ]
    }
   ],
   "source": [
    "set.seed(1)\n",
    "train = soccer_da %>%\n",
    "sample_frac(0.5)\n",
    "\n",
    "test = soccer_da %>%\n",
    "setdiff(train)\n",
    "\n",
    "x_train = model.matrix(wage_eur~., train)[,-1]\n",
    "x_test = model.matrix(wage_eur~., test)[,-1]"
   ]
  },
  {
   "cell_type": "code",
   "execution_count": 7,
   "metadata": {},
   "outputs": [
    {
     "ename": "ERROR",
     "evalue": "Error in eval(lhs, parent, parent): object 'train' not found\n",
     "output_type": "error",
     "traceback": [
      "Error in eval(lhs, parent, parent): object 'train' not found\nTraceback:\n",
      "1. train %>% select(wage_eur) %>% unlist() %>% as.numeric()",
      "2. eval(lhs, parent, parent)",
      "3. eval(lhs, parent, parent)"
     ]
    }
   ],
   "source": [
    "y_train = train %>%\n",
    "select(wage_eur) %>%\n",
    "unlist() %>%\n",
    "as.numeric()\n",
    "y_test = test %>%\n",
    "select(wage_eur) %>%\n",
    "unlist() %>%\n",
    "as.numeric()"
   ]
  },
  {
   "cell_type": "code",
   "execution_count": 8,
   "metadata": {},
   "outputs": [
    {
     "ename": "ERROR",
     "evalue": "Error in glmnet(x_train, y_train, alpha = 1, lambda = grid): object 'x_train' not found\n",
     "output_type": "error",
     "traceback": [
      "Error in glmnet(x_train, y_train, alpha = 1, lambda = grid): object 'x_train' not found\nTraceback:\n",
      "1. glmnet(x_train, y_train, alpha = 1, lambda = grid)"
     ]
    }
   ],
   "source": [
    "grid = 10^seq(10, -2, length = 100)\n",
    "lasso_mod = glmnet(x_train, y_train,\n",
    "alpha = 1,\n",
    "lambda = grid) # Fit lasso model on training data\n",
    "plot(lasso_mod,xvar=\"lambda\") # Draw plot of coefficients"
   ]
  },
  {
   "cell_type": "code",
   "execution_count": 9,
   "metadata": {},
   "outputs": [
    {
     "ename": "ERROR",
     "evalue": "Error in nrow(x): object 'x_train' not found\n",
     "output_type": "error",
     "traceback": [
      "Error in nrow(x): object 'x_train' not found\nTraceback:\n",
      "1. cv.glmnet(x_train, y_train, alpha = 0)",
      "2. nrow(x)"
     ]
    }
   ],
   "source": [
    "set.seed(1)\n",
    "cv.out = cv.glmnet(x_train, y_train, alpha = 0) # Fit ridge regression model on training data\n",
    "bestlam = cv.out$lambda.min # Select lamda that minimizes training MSE\n",
    "bestlam"
   ]
  },
  {
   "cell_type": "code",
   "execution_count": 10,
   "metadata": {},
   "outputs": [
    {
     "ename": "ERROR",
     "evalue": "Error in glmnet(x_train, y_train, alpha = 1, lambda = grid): object 'x_train' not found\n",
     "output_type": "error",
     "traceback": [
      "Error in glmnet(x_train, y_train, alpha = 1, lambda = grid): object 'x_train' not found\nTraceback:\n",
      "1. glmnet(x_train, y_train, alpha = 1, lambda = grid)"
     ]
    }
   ],
   "source": [
    "out = glmnet(x_train, y_train, alpha = 1, lambda = grid) # Fit lasso model on full dataset\n",
    "lasso_coef = predict(out, type = \"coefficients\", s = bestlam)[1:20,] # Display coefficients using lambda lasso_coef\n",
    "lasso_coef"
   ]
  },
  {
   "cell_type": "code",
   "execution_count": 98,
   "metadata": {},
   "outputs": [
    {
     "data": {
      "image/png": "[encoded data removed]",
      "text/plain": [
       "plot without title"
      ]
     },
     "metadata": {
      "image/png": {
       "height": 420,
       "width": 420
      },
      "text/plain": {
       "height": 420,
       "width": 420
      }
     },
     "output_type": "display_data"
    }
   ],
   "source": [
    "plot(soccer_da$attacking_finishing, soccer_da$wage_eur)"
   ]
  },
  {
   "cell_type": "code",
   "execution_count": null,
   "metadata": {},
   "outputs": [],
   "source": []
  }
 ],
 "metadata": {
  "kernelspec": {
   "display_name": "R",
   "language": "R",
   "name": "ir"
  },
  "language_info": {
   "codemirror_mode": "r",
   "file_extension": ".r",
   "mimetype": "text/x-r-source",
   "name": "R",
   "pygments_lexer": "r",
   "version": "3.6.3"
  }
 },
 "nbformat": 4,
 "nbformat_minor": 2
}
