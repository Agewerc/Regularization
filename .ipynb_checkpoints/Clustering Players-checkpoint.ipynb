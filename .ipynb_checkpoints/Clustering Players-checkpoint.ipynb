{
 "cells": [
  {
   "cell_type": "code",
   "execution_count": 1,
   "metadata": {},
   "outputs": [],
   "source": [
    "import pandas as pd\n",
    "import numpy as np\n",
    "import matplotlib.pyplot as plt"
   ]
  },
  {
   "cell_type": "code",
   "execution_count": 3,
   "metadata": {},
   "outputs": [],
   "source": [
    "soccer_data = pd.read_csv('input/fifa-20-complete-player-dataset/players_20.csv') "
   ]
  },
  {
   "cell_type": "code",
   "execution_count": 4,
   "metadata": {},
   "outputs": [],
   "source": [
    "EPL_list = ['Arsenal', 'Aston Villa', 'Bournemouth', 'Brighton & Hove Albion', \n",
    "            'Burnley', 'Chelsea', 'Crystal Palace','Everton', 'Leicester City', \n",
    "            'Liverpool', 'Manchester City', 'Manchester United', 'Newcastle United', \n",
    "            'Norwich City', 'Sheffield United', 'Southampton', 'Tottenham Hotspur', \n",
    "            'Watford', 'West Ham United', 'Wolverhampton Wanderers']\n",
    "\n",
    "La_liga_list = ['Real Madrid', 'FC Barcelona', 'Atlético Madrid', 'Sevilla FC', 'Villarreal CF', 'Getafe CF', \n",
    "                'Real Socieda', 'Valencia CF', 'Granada CF', 'Athletic Club de Bilbao', 'CA Osasuna', 'Levante UD','Real Betis', \n",
    "                'Real Valladolid CF', 'SD Eibar', 'RC Celta', 'Deportivo Alavés', 'RCD Mallorca', 'CD Leganes', 'RCD Espanyol']\n",
    "\n",
    "Bundesliga_list = ['FC Bayern München', 'Borussia Dortmund' 'RB Leipzig', 'Bayer 04 Leverkusen', \n",
    "                   'Borussia Mönchengladbach' , 'TSG 1899 Hoffenheim', 'Hertha BSC', 'VfL Wolfsburg',  \n",
    "                   'Eintracht Frankfurt', 'FC Schalke 04', 'SC Freiburg', 'FC Augsburg', 'FSV Mainz 05',\n",
    "                   'SV Werder Bremen', 'FC Köln German', 'Fortuna Düsseldorf', 'FC Union Berlin', 'SC Paderborn 07']\n",
    "\n",
    "Italian_League_list = ['Juventus', 'Lazio', 'Atalanta', 'Internazionale AS', 'Roma', 'Napoli' ,\n",
    "                       'Milan', 'Sassuolo', 'Hellas Verona', 'Bologna', 'Cagliari', 'Parma',\n",
    "                       'Fiorentina', 'Sampdoria', 'Udinese','Torino', 'Genoa','Lecce','Brescia','SPAL']\n",
    "\n",
    "european_league = EPL_list + La_liga_list+ Bundesliga_list + Italian_League_list\n"
   ]
  },
  {
   "cell_type": "code",
   "execution_count": 14,
   "metadata": {},
   "outputs": [],
   "source": [
    "soccer_data['new'] = 0\n",
    "soccer_data['new'] = soccer_data['club'].apply(lambda x: 1 if x in european_league else 0)\n",
    "soccer_data = soccer_data[soccer_data['new'] == 1]"
   ]
  },
  {
   "cell_type": "code",
   "execution_count": 42,
   "metadata": {},
   "outputs": [],
   "source": [
    "player_tags = list(soccer_data.player_tags)\n",
    "player_tags = [item for item in player_tags if str(item) != 'nan']\n",
    "player_tags = [item.split('#') for item in player_tags]\n",
    "player_tags = [item for item in player_tags if str(item) != 'nan']\n",
    "player_tags = [item for sublist in player_tags for item in sublist]\n",
    "player_tags = [item for item in player_tags if str(item) != '']\n",
    "player_tags = [item.replace(',', '') for item in player_tags]\n",
    "player_tags = [item.replace('\\xa0', '') for item in player_tags]\n",
    "player_tags = [item.strip() for item in player_tags]\n",
    "player_tags = list(set(player_tags))"
   ]
  },
  {
   "cell_type": "code",
   "execution_count": 43,
   "metadata": {},
   "outputs": [
    {
     "data": {
      "text/plain": [
       "['Playmaker',\n",
       " 'Tackling',\n",
       " 'Strength',\n",
       " 'Complete Defender',\n",
       " 'Acrobat',\n",
       " 'Aerial Threat',\n",
       " 'Distance Shooter',\n",
       " 'Dribbler',\n",
       " 'Speedster',\n",
       " 'Poacher',\n",
       " 'Clinical Finisher',\n",
       " 'Complete Forward',\n",
       " 'Complete Midfielder',\n",
       " 'Tactician',\n",
       " 'FK Specialist',\n",
       " 'Engine',\n",
       " 'Crosser']"
      ]
     },
     "execution_count": 43,
     "metadata": {},
     "output_type": "execute_result"
    }
   ],
   "source": [
    "player_tags"
   ]
  },
  {
   "cell_type": "code",
   "execution_count": 46,
   "metadata": {},
   "outputs": [],
   "source": [
    "player_traits = list(soccer_data.player_traits)\n",
    "player_traits = [item for item in player_traits if str(item) != 'nan']\n",
    "player_traits = [item.split(',') for item in player_traits]\n",
    "player_traits = [item for item in player_traits if str(item) != 'nan']\n",
    "player_traits = [item for sublist in player_traits for item in sublist]\n",
    "player_traits = [item for item in player_traits if str(item) != '']\n",
    "player_traits = [item.replace(',', '') for item in player_traits]\n",
    "player_traits = [item.replace('\\xa0', '') for item in player_traits]\n",
    "player_traits = [item.strip() for item in player_traits]\n",
    "player_traits = list(set(player_traits))"
   ]
  },
  {
   "cell_type": "code",
   "execution_count": 47,
   "metadata": {},
   "outputs": [
    {
     "data": {
      "text/plain": [
       "['Flair',\n",
       " 'Giant Throw-in',\n",
       " 'Injury Free',\n",
       " 'Skilled Dribbling',\n",
       " 'Outside Foot Shot',\n",
       " 'Acrobatic Clearance',\n",
       " 'Swerve Pass',\n",
       " 'Injury Prone',\n",
       " 'Long Throw-in',\n",
       " 'Dives Into Tackles (CPU AI Only)',\n",
       " 'Finesse Shot',\n",
       " 'Flair Passes',\n",
       " 'Selfish',\n",
       " 'Argues with Officials',\n",
       " 'Diver',\n",
       " 'Avoids Using Weaker Foot',\n",
       " 'Long Shot Taker (CPU AI Only)',\n",
       " 'Inflexible',\n",
       " 'Power Free-Kick',\n",
       " 'Long Passer (CPU AI Only)',\n",
       " 'Early Crosser',\n",
       " 'Second Wind',\n",
       " 'Leadership',\n",
       " 'Crowd Favourite',\n",
       " 'Beat Offside Trap',\n",
       " 'Speed Dribbler (CPU AI Only)',\n",
       " '1-on-1 Rush']"
      ]
     },
     "execution_count": 47,
     "metadata": {},
     "output_type": "execute_result"
    }
   ],
   "source": [
    "player_traits"
   ]
  }
 ],
 "metadata": {
  "kernelspec": {
   "display_name": "Python 3",
   "language": "python",
   "name": "python3"
  },
  "language_info": {
   "codemirror_mode": {
    "name": "ipython",
    "version": 3
   },
   "file_extension": ".py",
   "mimetype": "text/x-python",
   "name": "python",
   "nbconvert_exporter": "python",
   "pygments_lexer": "ipython3",
   "version": "3.7.4"
  }
 },
 "nbformat": 4,
 "nbformat_minor": 2
}
